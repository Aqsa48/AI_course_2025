{
 "cells": [
  {
   "cell_type": "markdown",
   "id": "89232dbd",
   "metadata": {},
   "source": [
    "# 🔁 Loops in Python\n",
    "\n",
    "Loops are used in Python to repeat a block of code multiple times. Python provides two main types of loops: `for` and `while` loops."
   ]
  },
  {
   "cell_type": "markdown",
   "id": "464231f6",
   "metadata": {},
   "source": [
    "## ✅ 1. For Loop\n",
    "The `for` loop is used to iterate over a sequence."
   ]
  },
  {
   "cell_type": "code",
   "execution_count": null,
   "id": "87829535",
   "metadata": {},
   "outputs": [],
   "source": [
    "for i in range(5):\n",
    "    print(i)"
   ]
  },
  {
   "cell_type": "markdown",
   "id": "7783e9fb",
   "metadata": {},
   "source": [
    "## ✅ 2. While Loop\n",
    "The `while` loop executes as long as the condition is `True`."
   ]
  },
  {
   "cell_type": "code",
   "execution_count": null,
   "id": "cc467677",
   "metadata": {},
   "outputs": [],
   "source": [
    "count = 0\n",
    "while count < 5:\n",
    "    print(count)\n",
    "    count += 1"
   ]
  },
  {
   "cell_type": "markdown",
   "id": "da41b26d",
   "metadata": {},
   "source": [
    "## ✅ 3. Break Statement\n",
    "Used to exit the loop prematurely."
   ]
  },
  {
   "cell_type": "code",
   "execution_count": null,
   "id": "1e3d7d1e",
   "metadata": {},
   "outputs": [],
   "source": [
    "for i in range(10):\n",
    "    if i == 5:\n",
    "        break\n",
    "    print(i)"
   ]
  },
  {
   "cell_type": "markdown",
   "id": "83a79ef2",
   "metadata": {},
   "source": [
    "## ✅ 4. Continue Statement\n",
    "Skips the current iteration and moves to the next."
   ]
  },
  {
   "cell_type": "code",
   "execution_count": null,
   "id": "f11d1a30",
   "metadata": {},
   "outputs": [],
   "source": [
    "for i in range(5):\n",
    "    if i == 2:\n",
    "        continue\n",
    "    print(i)"
   ]
  },
  {
   "cell_type": "markdown",
   "id": "65d326f8",
   "metadata": {},
   "source": [
    "## ✅ 5. Else with Loops\n",
    "The `else` block runs after the loop finishes, unless a `break` is hit."
   ]
  },
  {
   "cell_type": "code",
   "execution_count": null,
   "id": "3dafbb17",
   "metadata": {},
   "outputs": [],
   "source": [
    "for i in range(3):\n",
    "    print(i)\n",
    "else:\n",
    "    print(\"Loop finished!\")"
   ]
  },
  {
   "cell_type": "markdown",
   "id": "789aff3a",
   "metadata": {},
   "source": [
    "## ✅ 6. Nested Loops\n",
    "Loops within loops."
   ]
  },
  {
   "cell_type": "code",
   "execution_count": null,
   "id": "dd9929db",
   "metadata": {},
   "outputs": [],
   "source": [
    "for i in range(2):\n",
    "    for j in range(3):\n",
    "        print(f\"i={i}, j={j}\")"
   ]
  }
 ],
 "metadata": {},
 "nbformat": 4,
 "nbformat_minor": 5
}
